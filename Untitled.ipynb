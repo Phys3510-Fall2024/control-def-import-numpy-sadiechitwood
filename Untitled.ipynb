{
 "cells": [
  {
   "cell_type": "markdown",
   "id": "04694005-fa25-4891-9f64-afeec29585a1",
   "metadata": {},
   "source": [
    "# Assignment\n",
    "### Objective:\n",
    "Show a clear understanding of how different symmetry operations affect physical quantiities such as scalars, vectors, and pseudoscalars, and an approach to implementing these operations using Python and `numpy`.\n",
    "\n",
    "### Symmetry \n",
    "Symmetry is a fundamental concept in physics. If a system obeys certain symmetries, the models we use to describe it must also obery those same symmetries. \n",
    "Everytime you write down an equation for the energy of a system, or the force acting on a systme, there has to be an implicit appeal to your innate understanding of symmetyr. \n",
    "\n",
    "### The 1D objects\n",
    "For this assignments, we are to define 'one-dimensional objects' with vector operations, and use special symmetries to make sense of them. The four we are going to explore are:\n",
    "1. scalar\n",
    "2. pseudoscalar\n",
    "3. polar vector\n",
    "4. axial (pseduo) vector\n",
    "\n"
   ]
  },
  {
   "cell_type": "code",
   "execution_count": 1,
   "id": "c578476c-b739-49ef-a355-e0e470e76bf6",
   "metadata": {},
   "outputs": [],
   "source": [
    "import numpy as np"
   ]
  },
  {
   "cell_type": "code",
   "execution_count": 2,
   "id": "abbac32e-5ba0-4e26-b98b-fb1360c5aa5d",
   "metadata": {},
   "outputs": [],
   "source": [
    "a= np.array([1,0,0])\n",
    "b= np.array([0,1,0])\n",
    "c= np.array([0,0,1])"
   ]
  },
  {
   "cell_type": "markdown",
   "id": "2b14051c-da11-4a92-a70a-86e2d3f02afa",
   "metadata": {},
   "source": [
    "### The symmetry operations\n",
    "With these operations defined, we can define the four objects, all aligned along the z-axis of a 3D Cartesian space:"
   ]
  },
  {
   "cell_type": "code",
   "execution_count": 13,
   "id": "f7deb6ed-acf4-4538-b338-35a67cca2eca",
   "metadata": {},
   "outputs": [
    {
     "name": "stdout",
     "output_type": "stream",
     "text": [
      "0\n",
      "1\n",
      "[0 0 1]\n",
      "[0 0 1]\n"
     ]
    }
   ],
   "source": [
    "scalar: np.dot(a,b) #dot product\n",
    "print(np.dot(a,b))\n",
    "\n",
    "pseudoscalar: np.dot(c, np.cross(a,b)) #scalar triple product\n",
    "print(np.dot(c, np.cross(a,b)))\n",
    "\n",
    "polar_vector: c #no operation\n",
    "print(c)\n",
    "\n",
    "axial_vector:np.cross(a,b) #cross product\n",
    "print(np.cross(a,b))"
   ]
  },
  {
   "cell_type": "markdown",
   "id": "835e1463-e0b5-45b4-82ee-65afefddc251",
   "metadata": {},
   "source": [
    "### 'Even' and 'odd'\n",
    "\n",
    "We can say that an object is even under a symmetry transforamtion if it does not change sign under the symmetry operation. The object is said to be odd under a symmetry tranformation if it does change sign. \n",
    "\n",
    "This is most easily seen by working the the polar vector `c = [0,0,1]`. We imagine an arrow pointing up, and if we perform a mirror operation for a mirror oriented in the xy-plane, the arrow would be pointed down. This is the same as if we multiplied `c` by `-1`. `c` is to be odd under this operation. \n",
    "\n",
    "### An example of applying a symmetry operation"
   ]
  },
  {
   "cell_type": "code",
   "execution_count": 14,
   "id": "4e329201-6d76-4133-a2db-0f46539734d2",
   "metadata": {},
   "outputs": [],
   "source": [
    "identity = np.array(\n",
    "         [[ 1, 0, 0]\n",
    "         ,[ 0, 1, 0]\n",
    "         ,[ 0, 0, 1]]\n",
    ")"
   ]
  },
  {
   "cell_type": "markdown",
   "id": "6d8839a9-15a0-4651-b91a-4f9cebb9bc90",
   "metadata": {},
   "source": [
    "### The symmetry operations: Assignment\n",
    "\n",
    "Define the following operations and find if the four objects are even or odd about these. "
   ]
  },
  {
   "cell_type": "code",
   "execution_count": null,
   "id": "651eea3f-67f4-45a9-bb8b-3b367ec14621",
   "metadata": {},
   "outputs": [],
   "source": []
  }
 ],
 "metadata": {
  "kernelspec": {
   "display_name": "Python 3 (ipykernel)",
   "language": "python",
   "name": "python3"
  },
  "language_info": {
   "codemirror_mode": {
    "name": "ipython",
    "version": 3
   },
   "file_extension": ".py",
   "mimetype": "text/x-python",
   "name": "python",
   "nbconvert_exporter": "python",
   "pygments_lexer": "ipython3",
   "version": "3.9.19"
  }
 },
 "nbformat": 4,
 "nbformat_minor": 5
}
