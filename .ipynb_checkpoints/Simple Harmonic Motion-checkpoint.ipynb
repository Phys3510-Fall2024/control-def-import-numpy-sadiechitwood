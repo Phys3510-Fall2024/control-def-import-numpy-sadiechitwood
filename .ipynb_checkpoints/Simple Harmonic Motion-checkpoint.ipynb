{
 "cells": [
  {
   "cell_type": "markdown",
   "id": "863b33f2-bdf0-4cab-8a37-ef1f018d3c8f",
   "metadata": {},
   "source": [
    "## Simple Harmonic Motion\n",
    "\n",
    "This function will output the position and velocity of a spring-mass system\n",
    "\n",
    "The important equations are:\n",
    "\n",
    "Potential energy: $U= \\frac{1}{2}kx^2$\n",
    "\n",
    "Force: $F=-kx = ma=mx$"
   ]
  },
  {
   "cell_type": "code",
   "execution_count": 11,
   "id": "aa08c4d8-cbf1-4bbb-865c-d675077d0adf",
   "metadata": {},
   "outputs": [],
   "source": [
    "#import the math library\n",
    "import math\n",
    "\n",
    "#define our harmonic motion\n",
    "def  harmonic_motion(t, omega, x0, v0):\n",
    "    \"\"\"\n",
    "    This function outputs the position and velocity of a harmonic oscillator (simple spring-mass system) at a desired \n",
    "\n",
    "    Input\n",
    "    t    : time in seconds\n",
    "    omega: resonant frequency (omega= math.sqrt(k/m))\n",
    "    x0   : initial position\n",
    "    v0   : initial velocity\n",
    "\n",
    "    Output/Return:\n",
    "    x: position at time t\n",
    "    v: velocity at time t\n",
    "    \"\"\"\n",
    "    #position as a function of time\n",
    "    x= x0*math.cos(omega*t) + (v0/omega)*math.sin(omega*t)\n",
    "\n",
    "    #velocity as a function of time\n",
    "    v= -omega*x0*math.sin(omega*time)+v0*math.cos(omega*t)\n",
    "    \n",
    "    return x,v"
   ]
  },
  {
   "cell_type": "code",
   "execution_count": 21,
   "id": "bfa4d4ba-7c5d-4825-a501-1e8a0ab4de53",
   "metadata": {},
   "outputs": [
    {
     "data": {
      "text/plain": [
       "[-3.0999999999999996, -2.0000000000000004]"
      ]
     },
     "execution_count": 21,
     "metadata": {},
     "output_type": "execute_result"
    }
   ],
   "source": [
    "#testing our function\n",
    "omega= 1 #units tbd\n",
    "time= (1*math.pi)/omega\n",
    "initial_position= 3.1 #units tbd\n",
    "initial_velocity=2.0 #units tbd\n",
    "position, velocity= harmonic_motion(time,omega,initial_position,initial_velocity)\n",
    "[position, velocity]"
   ]
  },
  {
   "cell_type": "code",
   "execution_count": null,
   "id": "06b09648-3657-4e28-8dff-9fc36a813023",
   "metadata": {},
   "outputs": [],
   "source": []
  }
 ],
 "metadata": {
  "kernelspec": {
   "display_name": "Python 3 (ipykernel)",
   "language": "python",
   "name": "python3"
  },
  "language_info": {
   "codemirror_mode": {
    "name": "ipython",
    "version": 3
   },
   "file_extension": ".py",
   "mimetype": "text/x-python",
   "name": "python",
   "nbconvert_exporter": "python",
   "pygments_lexer": "ipython3",
   "version": "3.9.19"
  }
 },
 "nbformat": 4,
 "nbformat_minor": 5
}
