{
 "cells": [
  {
   "cell_type": "markdown",
   "id": "04694005-fa25-4891-9f64-afeec29585a1",
   "metadata": {},
   "source": [
    "# Assignment\n",
    "\n",
    "### Objective:\n",
    "Show a clear understanding of how different symmetry operations affect physical quantiities such as scalars, vectors, and pseudoscalars, and an approach to implementing these operations using Python and `numpy`.\n",
    "\n",
    "### Symmetry \n",
    "Symmetry is a fundamental concept in physics. If a system obeys certain symmetries, the models we use to describe it must also obery those same symmetries. \n",
    "Everytime you write down an equation for the energy of a system, or the force acting on a systme, there has to be an implicit appeal to your innate understanding of symmetyr. \n",
    "\n",
    "### The 1D objects\n",
    "For this assignments, we are to define 'one-dimensional objects' with vector operations, and use special symmetries to make sense of them. The four we are going to explore are:\n",
    "1. scalar\n",
    "2. pseudoscalar\n",
    "3. polar vector\n",
    "4. axial (pseduo) vector\n",
    "\n"
   ]
  },
  {
   "cell_type": "code",
   "execution_count": 1,
   "id": "c578476c-b739-49ef-a355-e0e470e76bf6",
   "metadata": {},
   "outputs": [],
   "source": [
    "import numpy as np"
   ]
  },
  {
   "cell_type": "code",
   "execution_count": 2,
   "id": "abbac32e-5ba0-4e26-b98b-fb1360c5aa5d",
   "metadata": {},
   "outputs": [],
   "source": [
    "a= np.array([1,0,0])\n",
    "b= np.array([0,1,0])\n",
    "c= np.array([0,0,1])"
   ]
  },
  {
   "cell_type": "markdown",
   "id": "2b14051c-da11-4a92-a70a-86e2d3f02afa",
   "metadata": {},
   "source": [
    "### The symmetry operations\n",
    "With these operations defined, we can define the four objects, all aligned along the z-axis of a 3D Cartesian space:"
   ]
  },
  {
   "cell_type": "code",
   "execution_count": 9,
   "id": "f7deb6ed-acf4-4538-b338-35a67cca2eca",
   "metadata": {},
   "outputs": [
    {
     "name": "stdout",
     "output_type": "stream",
     "text": [
      "0\n",
      "-1\n",
      "[ 0  0 -1]\n",
      "[0 0 1]\n"
     ]
    }
   ],
   "source": [
    "a= np.array([1,0,0])\n",
    "b= np.array([0,1,0])\n",
    "c= np.array([0,0,1])\n",
    "\n",
    "scalar: np.dot(a,b) #dot product\n",
    "print(np.dot(a,b))\n",
    "\n",
    "pseudoscalar: np.dot(c, np.cross(a,b)) #scalar triple product\n",
    "print(np.dot(c, np.cross(a,b)))\n",
    "\n",
    "polar_vector: c #no operation\n",
    "print(c)\n",
    "\n",
    "axial_vector:np.cross(a,b) #cross product\n",
    "print(np.cross(a,b))"
   ]
  },
  {
   "cell_type": "markdown",
   "id": "835e1463-e0b5-45b4-82ee-65afefddc251",
   "metadata": {},
   "source": [
    "### 'Even' and 'odd'\n",
    "\n",
    "We can say that an object is even under a symmetry transforamtion if it does not change sign under the symmetry operation. The object is said to be odd under a symmetry tranformation if it does change sign. \n",
    "\n",
    "This is most easily seen by working the the polar vector `c = [0,0,1]`. We imagine an arrow pointing up, and if we perform a mirror operation for a mirror oriented in the xy-plane, the arrow would be pointed down. This is the same as if we multiplied `c` by `-1`. `c` is to be odd under this operation. \n",
    "\n",
    "### An example of applying a symmetry operation"
   ]
  },
  {
   "cell_type": "code",
   "execution_count": 14,
   "id": "4e329201-6d76-4133-a2db-0f46539734d2",
   "metadata": {},
   "outputs": [],
   "source": [
    "identity = np.array(\n",
    "         [[ 1, 0, 0]\n",
    "         ,[ 0, 1, 0]\n",
    "         ,[ 0, 0, 1]]\n",
    ")"
   ]
  },
  {
   "cell_type": "markdown",
   "id": "6d8839a9-15a0-4651-b91a-4f9cebb9bc90",
   "metadata": {},
   "source": [
    "### The symmetry operations: Assignment\n",
    "\n",
    "Define the following operations and find if the four objects are even or odd about these. \n",
    "\n",
    "1. Inversion\n",
    "2. mirror_z: a mirror in the xy-plane\n",
    "3. mirror_y: a mirror in the yz-plane\n",
    "4. rotation_x_180: a 180 degree about the x-axis\n",
    "\n",
    "I performed computational work for each symmetry: the table is at the very end!\n"
   ]
  },
  {
   "cell_type": "code",
   "execution_count": 10,
   "id": "651eea3f-67f4-45a9-bb8b-3b367ec14621",
   "metadata": {},
   "outputs": [],
   "source": [
    "import numpy as np\n",
    "\n",
    "inversion = np.array(\n",
    "               [[-1,  0,  0]\n",
    "               ,[ 0, -1,  0]\n",
    "               ,[ 0,  0, -1]]\n",
    ")\n",
    "\n",
    "mirror_z = np.array(\n",
    "                [[1,  0,  0]\n",
    "               ,[ 0, 1,  0]\n",
    "               ,[ 0,  0, -1]]\n",
    ")\n",
    "\n",
    "mirror_y = np.array(\n",
    "                [[-1,  0,  0]\n",
    "               ,[ 0, 1,  0]\n",
    "               ,[ 0,  0, 1]]\n",
    ")\n",
    "\n",
    "rotation_x_180 = np.array(\n",
    "                [[1,  0,  0]\n",
    "               ,[ 0, -1,  0]\n",
    "               ,[ 0,  0, -1]]\n",
    ")"
   ]
  },
  {
   "cell_type": "code",
   "execution_count": 13,
   "id": "f7171c4f-4eef-4021-9231-137084678317",
   "metadata": {},
   "outputs": [
    {
     "name": "stdout",
     "output_type": "stream",
     "text": [
      "0\n",
      "-1\n",
      "[ 0  0 -1]\n",
      "[0 0 1]\n"
     ]
    }
   ],
   "source": [
    "# Computational Work\n",
    "\n",
    "# Inversion\n",
    "a= np.array([-1,0,0])\n",
    "b= np.array([0,-1,0])\n",
    "c= np.array([0,0,-1])\n",
    "\n",
    "scalar: np.dot(a,b) #dot product \n",
    "print(np.dot(a,b))\n",
    "#Get 0- so that it is constant\n",
    "\n",
    "pseudoscalar: np.dot(c, np.cross(a,b)) #scalar triple product\n",
    "print(np.dot(c, np.cross(a,b)))\n",
    "#Get -1, so that it is odd\n",
    "\n",
    "polar_vector: c #no operation\n",
    "print(c)\n",
    "#Get back that z hat is -1 - odd\n",
    "\n",
    "axial_vector:np.cross(a,b) #cross product\n",
    "print(np.cross(a,b))\n",
    "#Get 1 for the cross product - even\n"
   ]
  },
  {
   "cell_type": "code",
   "execution_count": 14,
   "id": "16fa0bf2-5b89-4727-997b-098c39cbd51a",
   "metadata": {},
   "outputs": [
    {
     "name": "stdout",
     "output_type": "stream",
     "text": [
      "0\n",
      "-1\n",
      "[ 0  0 -1]\n",
      "[0 0 1]\n"
     ]
    }
   ],
   "source": [
    "# Computational Work\n",
    "\n",
    "# Mirror_Z\n",
    "a= np.array([1,0,0])\n",
    "b= np.array([0,1,0])\n",
    "c= np.array([0,0,-1])\n",
    "#only z direction is affected\n",
    "\n",
    "scalar: np.dot(a,b) #dot product \n",
    "print(np.dot(a,b))\n",
    "#Get 0- so that it is constant\n",
    "\n",
    "pseudoscalar: np.dot(c, np.cross(a,b)) #scalar triple product\n",
    "print(np.dot(c, np.cross(a,b)))\n",
    "#Get -1, so that it is odd\n",
    "\n",
    "polar_vector: c #no operation\n",
    "print(c)\n",
    "#Get back that z hat is -1 - odd\n",
    "\n",
    "axial_vector:np.cross(a,b) #cross product\n",
    "print(np.cross(a,b))\n",
    "#Get 1 for the cross product - even\n"
   ]
  },
  {
   "cell_type": "code",
   "execution_count": 15,
   "id": "a3f7dcbb-c79f-4fde-b4ed-df992eddfecb",
   "metadata": {},
   "outputs": [
    {
     "name": "stdout",
     "output_type": "stream",
     "text": [
      "0\n",
      "-1\n",
      "[0 0 1]\n",
      "[ 0  0 -1]\n"
     ]
    }
   ],
   "source": [
    "# Computational Work\n",
    "\n",
    "# Mirror_Y\n",
    "a= np.array([-1,0,0])\n",
    "b= np.array([0,1,0])\n",
    "c= np.array([0,0,1])\n",
    "#only x direction is switched\n",
    "\n",
    "scalar: np.dot(a,b) #dot product \n",
    "print(np.dot(a,b))\n",
    "#Get 0- so that it is constant\n",
    "\n",
    "pseudoscalar: np.dot(c, np.cross(a,b)) #scalar triple product\n",
    "print(np.dot(c, np.cross(a,b)))\n",
    "#Get -1, so that it is odd\n",
    "\n",
    "polar_vector: c #no operation\n",
    "print(c)\n",
    "#Get back that z hat is 1 - even\n",
    "\n",
    "axial_vector:np.cross(a,b) #cross product\n",
    "print(np.cross(a,b))\n",
    "#Get -1 for the cross product - odd\n"
   ]
  },
  {
   "cell_type": "code",
   "execution_count": 16,
   "id": "635e1abc-7ded-47c8-a9a8-cd6d24c5be2a",
   "metadata": {},
   "outputs": [
    {
     "name": "stdout",
     "output_type": "stream",
     "text": [
      "0\n",
      "1\n",
      "[ 0  0 -1]\n",
      "[ 0  0 -1]\n"
     ]
    }
   ],
   "source": [
    "# Computational Work\n",
    "\n",
    "# Rotation_X_180\n",
    "a= np.array([1,0,0])\n",
    "b= np.array([0,-1,0])\n",
    "c= np.array([0,0,-1])\n",
    "#only x remains the same, and the rest is rotated\n",
    "\n",
    "scalar: np.dot(a,b) #dot product \n",
    "print(np.dot(a,b))\n",
    "#Get 0- so that it is constant\n",
    "\n",
    "pseudoscalar: np.dot(c, np.cross(a,b)) #scalar triple product\n",
    "print(np.dot(c, np.cross(a,b)))\n",
    "#Get 1, so that it is even\n",
    "\n",
    "polar_vector: c #no operation\n",
    "print(c)\n",
    "#Get back that z hat is -1 - odd\n",
    "\n",
    "axial_vector:np.cross(a,b) #cross product\n",
    "print(np.cross(a,b))\n",
    "#Get -1 for the cross product - odd\n"
   ]
  },
  {
   "cell_type": "markdown",
   "id": "523f6d8c-4b5a-4f57-a23f-753fe65ba6e7",
   "metadata": {},
   "source": [
    "| 1D object    | identity | inversion | mirror_z | mirror_y | rotation_x_180 |\n",
    "|--------------|----------|-----------|----------|----------|----------------|\n",
    "| scalar       | 1        |     1      |    1      |      1    |    1         |\n",
    "| pseudoscalar | 1        |     -1      |     -1     |    -1    |        1      |\n",
    "| polar vector | 1        |     -1     |     -1     |       1 |         -1       |\n",
    "| axial vector | 1        |    1       |     1     |       -1|          -1      |"
   ]
  },
  {
   "cell_type": "markdown",
   "id": "0d39c55a-2638-43a2-9191-b2bf87a87bf5",
   "metadata": {},
   "source": [
    "### Are any of these operators redundant?\n",
    "The identity operation (just itself) woudl be considered redundant as there is no change to the object's orientation. \n",
    "If one symmetry transformation guarantees that the energy is even, another that produces the same even energy, would be redundant. "
   ]
  },
  {
   "cell_type": "markdown",
   "id": "0b7aa925-0999-4d3e-a6b3-42a9a89dee04",
   "metadata": {},
   "source": [
    "### Assume the following assignment:\n",
    "\n",
    "Q_1 : scalar Q_2 : pseudoscalar Q_3 : polar vector Q_3 = axial vector\n",
    "\n",
    "Notice that the square of any of these terms, i.e. Q_i^2, is even under all of the symmetry operations. This is a generalization of the multiplication rules \"even times even is even\" and \"odd times odd is even\" for each symmetry. You can think about this as a sping-mass system where the energy stored in the spring is 1/2 k x^2. Each Q_i is the coordinate of a mass, and 1/2 k is whatever the coefficient of that is that gives us units of energy. \n",
    "\n",
    "##### Are any terms Q_i * Q_j possible? Why or why not? \n",
    "This could be x * y, where y could represent the height of the system and x is the mass of the system?\n",
    "\n",
    "\n",
    "##### What about Q_i * Q_j * Q_k? These terms, if the exists, tell us how these \"springs\" can be coupled to each other.\n",
    "Would this be multiple springs oscillating together and the entire nature of the system? I don't really understand these last two problems and what exactly is each term,\n",
    "\n"
   ]
  },
  {
   "cell_type": "code",
   "execution_count": null,
   "id": "c8fcf95a-3be1-470e-a48c-6c8c9d0e9ca9",
   "metadata": {},
   "outputs": [],
   "source": []
  }
 ],
 "metadata": {
  "kernelspec": {
   "display_name": "Python 3 (ipykernel)",
   "language": "python",
   "name": "python3"
  },
  "language_info": {
   "codemirror_mode": {
    "name": "ipython",
    "version": 3
   },
   "file_extension": ".py",
   "mimetype": "text/x-python",
   "name": "python",
   "nbconvert_exporter": "python",
   "pygments_lexer": "ipython3",
   "version": "3.9.19"
  }
 },
 "nbformat": 4,
 "nbformat_minor": 5
}
